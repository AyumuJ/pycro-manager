{
 "cells": [
  {
   "cell_type": "markdown",
   "metadata": {},
   "source": [
    "# Streaming data from micro-manager to Napari: PSF Viewer\n",
    "\n",
    "This notebook shows how to acquire data using `micromanager`, then use `pycro-manager` to stream it to `napari`.  \n",
    "Buttons to start and stop data acquisition are added to `napari` using the `magic-gui` package.  \n",
    "In this example, the data displayed in `napari` resliced to get a live PSF viewer. However, reslicing is only a small example for the data analysis possible using `napari`."
   ]
  },
  {
   "cell_type": "code",
   "execution_count": 1,
   "metadata": {},
   "outputs": [],
   "source": [
    "# only execute first time to install all required packages\n",
    "#!pip install pycromanager queue napari pyqt5 magicgui"
   ]
  },
  {
   "cell_type": "code",
   "execution_count": 2,
   "metadata": {},
   "outputs": [],
   "source": [
    "import time\n",
    "import numpy as np\n",
    "import queue\n",
    "\n",
    "import napari\n",
    "from napari.qt import thread_worker\n",
    "\n",
    "from magicgui import magicgui\n",
    "\n",
    "from pycromanager import Dataset, Acquisition\n",
    "\n",
    "# open napari in an extra window\n",
    "%gui qt"
   ]
  },
  {
   "cell_type": "markdown",
   "metadata": {},
   "source": [
    "# define constants"
   ]
  },
  {
   "cell_type": "code",
   "execution_count": 3,
   "metadata": {},
   "outputs": [],
   "source": [
    "# data acquired on microscope or simulated?\n",
    "simulate = True\n",
    "# image size\n",
    "size = [2048, 2048]\n",
    "# clip image to central part. Speeds up display as data size is reduced\n",
    "clip =[500, 500]\n",
    "# um / px for scaling in napari\n",
    "size_um = [1, 1]\n",
    "# start in um, end in um, number of slices, active slice\n",
    "z_range = [0, 512, 100, 0]\n",
    "# sleep time to keep software responsive\n",
    "sleep_time = 0.05\n",
    "# contrast limits for display\n",
    "clim = [0, 200]\n",
    "# color map for display\n",
    "cmap = 'plasma'\n",
    "\n",
    "# initialize global variables\n",
    "acq_running = False\n",
    "img_queue = queue.Queue()\n",
    "data = np.random.rand(z_range[2], clip[0], clip[1]) * clim[1]"
   ]
  },
  {
   "cell_type": "markdown",
   "metadata": {},
   "source": [
    "# create dummy image and and put into stack\n",
    "adds dummy image of constant brightness  \n",
    "keeps track of z position  \n",
    "adds image and z position to queue  \n",
    "use for testing purposes without microscope  \n",
    "stack of increasing brightness helps to identify glitches"
   ]
  },
  {
   "cell_type": "code",
   "execution_count": 4,
   "metadata": {},
   "outputs": [],
   "source": [
    "def simulate_image(b, size = [128,128]):\n",
    "    \"\"\" fnc to simulate an image of constant brightness.\n",
    "        Keeps track of z-position in stacks, concatenates\n",
    "        image data and z-position and adds to queue.\n",
    "        Inputs: int b: brightness\n",
    "                np.array size: # of px in image in xy.\n",
    "        Global variables: img_queue to write image and z position to\n",
    "                z_range to keep track of z position\n",
    "        \"\"\"\n",
    "    global img_queue\n",
    "    global z_range\n",
    "    image = np.ones(size) * b\n",
    "    image_clipped = image[(size[0]-clip[0])//2:(size[0]+clip[0])//2,\n",
    "                          (size[1]-clip[1])//2:(size[1]+clip[1])//2]\n",
    "    img_queue.put([z_range[3], np.ravel(image_clipped)])\n",
    "    z_range[3]= (z_range[3]+1) % z_range[2]"
   ]
  },
  {
   "cell_type": "code",
   "execution_count": 5,
   "metadata": {},
   "outputs": [],
   "source": [
    "def simulate_data(ii, z_range):\n",
    "    \"\"\" fnc to create images with constant, but increasing brightness.\n",
    "        Inputs: int ii: counter to increase brightness\n",
    "                int z_range: number of slices in stack\"\"\"\n",
    "    for zz in range(z_range):\n",
    "        brightness = (ii+1) * (zz+1) / ((z_range+1)) * clim[1]\n",
    "        simulate_image(brightness, size)"
   ]
  },
  {
   "cell_type": "markdown",
   "metadata": {},
   "source": [
    "# image process function and pycromanager acquisition\n",
    "adds acquired image and z position to queue,  \n",
    "keeps track of z position  \n",
    "built pycromanager acquisition events  \n",
    "acquire data and send to image_process_fn  "
   ]
  },
  {
   "cell_type": "code",
   "execution_count": 6,
   "metadata": {},
   "outputs": [],
   "source": [
    "def grab_image(image, metadata):\n",
    "    \"\"\" image_process_fnc to grab image from uManager.\n",
    "        Keeps track of z-position in stacks, concatenates\n",
    "        image data and z-position and adds to queue.\n",
    "        Inputs: int b: brightness\n",
    "                np.array size: # of px in image in xy.\n",
    "        Global variables: img_queue to write image and z position to\n",
    "                z_range to keep track of z position\n",
    "        \"\"\"\n",
    "    global img_queue\n",
    "    global z_range\n",
    "\n",
    "    image_clipped = image[(size[0]-clip[0])//2:(size[0]+clip[0])//2,\n",
    "                      (size[1]-clip[1])//2:(size[1]+clip[1])//2]\n",
    "    img_queue.put([z_range[3], np.ravel(image_clipped)])\n",
    "    z_range[3]= (z_range[3]+1) % z_range[2]\n",
    "   \n",
    "    return image, metadata"
   ]
  },
  {
   "cell_type": "code",
   "execution_count": 7,
   "metadata": {},
   "outputs": [],
   "source": [
    "def acquire_data(z_range):\n",
    "    \"\"\" micro-manager data acquisition. Creates acquisition events for z-stack.\n",
    "        This example: use custom events, not multi_d_acquisition because the \n",
    "        z-stage is not run from micro-manager but controlled via external DAQ.\"\"\"\n",
    "    with Acquisition(directory=None, name=None, \n",
    "                     show_display=True, \n",
    "                     image_process_fn = grab_image) as acq:\n",
    "        events = []\n",
    "        for index, z_um in enumerate(np.linspace(z_range[0], z_range[1], z_range[2])):\n",
    "            evt = {\"axes\": {\"z_ext\": index}, \"z_ext\": z_um}\n",
    "            events.append(evt)\n",
    "        acq.acquire(events)"
   ]
  },
  {
   "cell_type": "markdown",
   "metadata": {},
   "source": [
    "# napari update display"
   ]
  },
  {
   "cell_type": "code",
   "execution_count": 8,
   "metadata": {},
   "outputs": [],
   "source": [
    "def display_napari(pos_img):\n",
    "    \"\"\" Unpacks z position and reshapes image from pos_img. Writes image into correct \n",
    "        slice of data, and updates napari display.\n",
    "        Called by worker thread yielding elements from queue.\n",
    "        Needs to be in code before worker thread connecting to it.\n",
    "        Inputs: array pos_img: queue element containing z position and raveled image data.\n",
    "        Global variables: np.array data: contains image stack\n",
    "            img_queue: needed only to send task_done() signal.\n",
    "    \"\"\"\n",
    "    global data\n",
    "    global img_queue\n",
    "    if pos_img is None:\n",
    "        return\n",
    "    # read image and z position\n",
    "    image = np.reshape(pos_img[1:],(clip[0], clip[1]))\n",
    "    z_pos = pos_img[0]\n",
    "\n",
    "    # write image into correct slice of data and update display\n",
    "    data[z_pos] = np.squeeze(image)\n",
    "    layer = viewer.layers[0]\n",
    "    layer.data = data\n",
    "\n",
    "    img_queue.task_done()"
   ]
  },
  {
   "cell_type": "markdown",
   "metadata": {},
   "source": [
    "# worker threads appending data to queue and reading from queue"
   ]
  },
  {
   "cell_type": "code",
   "execution_count": 9,
   "metadata": {},
   "outputs": [],
   "source": [
    "@thread_worker\n",
    "def append_img(img_queue):\n",
    "    \"\"\" Worker thread that adds images to a list.\n",
    "        Calls either micro-manager data acquisition or functions for simulating data.\n",
    "        Inputs: img_queue \"\"\"\n",
    "    # start microscope data acquisition\n",
    "    if not simulate:\n",
    "        while acq_running:\n",
    "            acquire_data(z_range)\n",
    "            time.sleep(sleep_time)\n",
    "\n",
    "    # run with simulated data\n",
    "    else:\n",
    "        ii = 0\n",
    "        while acq_running:\n",
    "            simulate_data(ii, z_range[2])\n",
    "            ii = ii + 1\n",
    "            time.sleep(sleep_time)"
   ]
  },
  {
   "cell_type": "code",
   "execution_count": 10,
   "metadata": {},
   "outputs": [],
   "source": [
    "@thread_worker(connect={'yielded': display_napari})\n",
    "def yield_img(img_queue):\n",
    "    \"\"\" Worker thread that checks whether there are elements in the \n",
    "        queue, reads them out.\n",
    "        Connected to display_napari function to update display \"\"\"\n",
    "    global acq_running\n",
    "    \n",
    "    while acq_running:\n",
    "        time.sleep(sleep_time)\n",
    "        # get elements from queue while there is more than one element\n",
    "        # playing it safe: I'm always leaving one element in the queue\n",
    "        while img_queue.qsize() > 1:\n",
    "            yield img_queue.get(block = False)\n",
    "\n",
    "    # read out last remaining elements after end of acquisition\n",
    "    while img_queue.qsize() > 0:\n",
    "        yield img_queue.get(block = False)\n",
    "    print(\"acquisition done\")"
   ]
  },
  {
   "cell_type": "markdown",
   "metadata": {},
   "source": [
    "# define functions to start and stop acquisition\n",
    "connect to gui buttons using magic_gui"
   ]
  },
  {
   "cell_type": "code",
   "execution_count": 11,
   "metadata": {},
   "outputs": [],
   "source": [
    "@magicgui(call_button=\"Start\")\n",
    "def start_acq():\n",
    "    print(\"starting threads...\")\n",
    "    global acq_running\n",
    "        \n",
    "    if not(acq_running):\n",
    "        worker1 = append_img(img_queue)\n",
    "        worker2 = yield_img(img_queue)\n",
    "        acq_running = True\n",
    "        worker1.start()\n",
    "        #worker2.start() # doesn't need to be started bc yield is connected\n",
    "    else:\n",
    "        print(\"acquisition already running!\")\n",
    "    \n",
    "    \n",
    "@magicgui(call_button = \"Stop\")\n",
    "def stop_acq():\n",
    "    print(\"stopping threads\")\n",
    "    # set global acq_running to False to stop other workers\n",
    "    global acq_running\n",
    "    acq_running = False"
   ]
  },
  {
   "cell_type": "markdown",
   "metadata": {},
   "source": [
    "# \"Main\" function: start napari and worker threads"
   ]
  },
  {
   "cell_type": "code",
   "execution_count": 12,
   "metadata": {},
   "outputs": [
    {
     "name": "stdout",
     "output_type": "stream",
     "text": [
      "viewer already closed or never opened\n"
     ]
    },
    {
     "data": {
      "text/plain": [
       "<napari._qt.widgets.qt_viewer_dock_widget.QtViewerDockWidget at 0x7fad3fa583a0>"
      ]
     },
     "execution_count": 12,
     "metadata": {},
     "output_type": "execute_result"
    },
    {
     "name": "stdout",
     "output_type": "stream",
     "text": [
      "starting threads...\n",
      "stopping threads\n",
      "acquisition done\n",
      "starting threads...\n",
      "stopping threads\n",
      "acquisition done\n",
      "starting threads...\n",
      "stopping threads\n",
      "acquisition done\n"
     ]
    }
   ],
   "source": [
    "# check if viewer is already open\n",
    "# if yes: close and reopen\n",
    "try:\n",
    "    if viewer:\n",
    "        viewer.close()\n",
    "except:\n",
    "    print(\"viewer already closed or never opened\")\n",
    "viewer = napari.Viewer(ndisplay=2)\n",
    "\n",
    "# initialize napari viewer with stack view and random data, reslice view\n",
    "layer = viewer.add_image(data, \n",
    "                        name = 'uManager',\n",
    "                        colormap = cmap,\n",
    "                        interpolation = 'nearest',\n",
    "                        blending = 'additive',\n",
    "                        rendering = 'attenuated_mip',\n",
    "                        scale = [z_range[1]/z_range[2], size_um[1], size_um[0]],\n",
    "                        contrast_limits = clim )\n",
    "viewer.dims._roll()\n",
    "\n",
    "# define start stop buttons and add to napari gui\n",
    "gui_start = start_acq.Gui()\n",
    "gui_stop = stop_acq.Gui()\n",
    "viewer.window.add_dock_widget(gui_start)\n",
    "viewer.window.add_dock_widget(gui_stop)"
   ]
  },
  {
   "cell_type": "code",
   "execution_count": null,
   "metadata": {},
   "outputs": [],
   "source": []
  }
 ],
 "metadata": {
  "kernelspec": {
   "display_name": "Python 3",
   "language": "python",
   "name": "python3"
  },
  "language_info": {
   "codemirror_mode": {
    "name": "ipython",
    "version": 3
   },
   "file_extension": ".py",
   "mimetype": "text/x-python",
   "name": "python",
   "nbconvert_exporter": "python",
   "pygments_lexer": "ipython3",
   "version": "3.8.5"
  }
 },
 "nbformat": 4,
 "nbformat_minor": 4
}
