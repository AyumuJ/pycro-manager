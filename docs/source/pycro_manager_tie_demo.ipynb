{
 "cells": [
  {
   "cell_type": "markdown",
   "metadata": {},
   "source": [
    "<hr style=\"height:2px;\">\n",
    "\n",
    "# Demo: Phase Retrieval\n",
    "\n",
    "In this tutorial we will use Pycro-Manager to easily collect a quantitative phase image of a sample! We will be using the [Transport of Intensity Equation (TIE)](https://en.wikipedia.org/wiki/Transport-of-intensity_equation)  to retrieve quantitative phase from a z-stack aquired by pycromanager on your microscope.\n",
    "\n",
    "Please install [Pycro-Manager](https://pycro-manager.readthedocs.io/en/latest/setup.html) locally before running this Colab notebook."
   ]
  },
  {
   "cell_type": "markdown",
   "metadata": {},
   "source": [
    "<hr style=\"height:2px;\">\n",
    "\n",
    "## Part 1: Setup\n",
    "\n",
    "If you have not yet, install Pycro-Manager:   \n",
    "```\n",
    "pip install pycromanager\n",
    "```\n",
    "Make sure you have NumPy, SciPy, TensorFlow (version >=2.3), and TensorFlow Probability installed before preceding.\n",
    "Run the following block (it's quite long! Don't worry!):"
   ]
  },
  {
   "cell_type": "code",
   "execution_count": 52,
   "metadata": {},
   "outputs": [],
   "source": [
    "import numpy as np\n",
    "from numpy import fft\n",
    "import tensorflow as tf   # requires TensorFlow version >= 2.3\n",
    "from tensorflow import signal\n",
    "from tensorflow import image\n",
    "import matplotlib.pyplot as plt\n",
    "import tensorflow_probability as tfp   # pip install --upgrade tensorflow-probability\n",
    "from scipy.io import loadmat\n",
    "import time\n",
    "from pycromanager import Bridge\n",
    "\n",
    "class GP_TIE(tf.Module):\n",
    "\n",
    "    def __init__(self):\n",
    "        self.SigmafStack, self.SigmanStack, self.SigmalStack = None, None, None\n",
    "        self.dIdzStack, self.CoeffStack, self.Coeff2Stack = None, None, None\n",
    "\n",
    "    @tf.function\n",
    "    def __call__(self, Ividmeas, z_vec, lambd, ps, zfocus, Nsl, eps1, eps2, reflect):\n",
    "\n",
    "        RePhase1 = self.RunGaussianProcess(Ividmeas, zfocus, z_vec, lambd, ps, Nsl, eps1, eps2, reflect)\n",
    "        RePhase1 = RePhase1 / tf.cast(tf.reduce_mean(Ividmeas), tf.float32)\n",
    "        return RePhase1\n",
    "\n",
    "    @tf.function\n",
    "    def RunGaussianProcess(self, Ividmeas,zfocus,z_vec,lambd,ps,Nsl,eps1,eps2,reflect):\n",
    "        Ividmeas = tf.cast(Ividmeas, tf.float32)\n",
    "        z_vec = tf.cast(z_vec, tf.float32)\n",
    "        lambd = tf.cast(lambd, tf.float32)\n",
    "        ps = tf.cast(ps, tf.float32)\n",
    "\n",
    "        (Nx, Ny, Nz) = Ividmeas.shape\n",
    "        I0 = Ividmeas[:,:,zfocus]\n",
    "        zfocus = z_vec[zfocus]\n",
    "\n",
    "        ### Calculate S_c ###\n",
    "\n",
    "        freqs = self.CalFrequency(Ividmeas[:,:,0], lambd, ps, 1)\n",
    "        max_freq = tf.reduce_max(freqs)\n",
    "        max_freq = tf.sqrt(max_freq / (lambd / 2))\n",
    "        freq_cutoff = tf.linspace(0.0,1.0,Nsl) * tf.cast(max_freq, tf.float32)\n",
    "        freq_cutoff = freq_cutoff ** 2 * lambd / 2\n",
    "\n",
    "        if self.SigmalStack is None:\n",
    "            self.SigmalStack = tf.Variable(tf.zeros((Nsl,1)))\n",
    "\n",
    "        freq_to_sc = tf.linspace(1.2,1.1,Nsl)\n",
    "        p = Nz / (tf.reduce_max(z_vec) - tf.reduce_min(z_vec))\n",
    "\n",
    "        # Figure out GP regression\n",
    "        self.SigmafStack = tf.ones(Nsl) * 10.0**-7 # should be 10.0**-9\n",
    "        self.SigmanStack = tf.ones(Nsl)\n",
    "\n",
    "        for k in range(Nsl):\n",
    "            f1 = freq_cutoff[k]\n",
    "            sc = f1 * freq_to_sc[k]\n",
    "            a = tf.cast(sc**2 * 2 * np.pi**2, tf.float32)\n",
    "            b = tf.cast(tf.math.log((p * (2*np.pi)**0.5)/self.SigmanStack[k]), tf.float32)\n",
    "            def fu2(x):\n",
    "                return a*tf.cast(tf.exp(x), tf.float32) -tf.cast(0.5*x-b, tf.float32)\n",
    "            x = tfp.math.secant_root(fu2, [5.0], max_iterations=10)[0] # try implementing\n",
    "            Sigmal = tf.exp(x)\n",
    "            self.SigmalStack[k].assign(Sigmal)\n",
    "\n",
    "        if self.dIdzStack is None:\n",
    "            self.dIdzStack = tf.Variable(tf.zeros((Nx,Ny,Nsl)))\n",
    "        if self.CoeffStack is None:\n",
    "            self.CoeffStack = tf.Variable(tf.zeros((Nz,Nsl)))\n",
    "        if self.Coeff2Stack is None:\n",
    "            self.Coeff2Stack = tf.Variable(tf.zeros((Nz,Nsl)))\n",
    "\n",
    "        for j in range(Nsl):\n",
    "            # print(j)\n",
    "            Sigmal = self.SigmalStack[j]\n",
    "            Sigman = self.SigmanStack[j]\n",
    "            Sigmaf = self.SigmafStack[j]\n",
    "\n",
    "            ### GP Regression step\n",
    "            dIdz, Coeff, Coeff2 = self.GPRegression(Ividmeas, zfocus, z_vec, Sigmaf, Sigmal, Sigman)\n",
    "            self.dIdzStack[:,:,j].assign(2*np.pi/lambd*ps**2*dIdz)\n",
    "            self.CoeffStack[:,j].assign(Coeff)\n",
    "            self.Coeff2Stack[:,j].assign(Coeff2[0])\n",
    "\n",
    "        dIdzC = self.CombinePhase(self.dIdzStack, freq_cutoff, freqs, self.CoeffStack, self.Coeff2Stack)\n",
    "\n",
    "        ### poisson solver\n",
    "\n",
    "        Del2_Psi_xy = (-2*np.pi/lambd) * dIdzC\n",
    "\n",
    "        N = dIdzC.shape[0]\n",
    "        Psi_xy = self.poisson_solve(Del2_Psi_xy, ps, eps1, 0, reflect)\n",
    "        xs = tf.range(0,len(Psi_xy),1)\n",
    "\n",
    "        # return tf.math.real(Psi_xy) 53.0\n",
    "\n",
    "        Grad_Psi_x, Grad_Psi_y = self.gradient_2d(Psi_xy/tf.cast(ps, tf.complex64))\n",
    "        Grad_Psi_x = Grad_Psi_x / tf.cast(I0 + eps2, tf.complex64)\n",
    "        Grad_Psi_y = Grad_Psi_y / tf.cast(I0 + eps2, tf.complex64)\n",
    "\n",
    "        grad2x, _ = self.gradient_2d(Grad_Psi_x/tf.cast(ps, tf.complex64))\n",
    "        _, grad2y = self.gradient_2d(Grad_Psi_y/tf.cast(ps, tf.complex64))\n",
    "\n",
    "        Del2_Psi_xy = grad2x + grad2y\n",
    "\n",
    "        # return tf.math.real(Del2_Psi_xy) 48.0\n",
    "\n",
    "        Phi_xy = self.poisson_solve(Del2_Psi_xy, ps, eps1, 1, reflect)\n",
    "\n",
    "        dcval = (tf.reduce_sum(Phi_xy[:,0]) + tf.reduce_sum(Phi_xy[0,:]) + tf.reduce_sum(Phi_xy[N-1,:]) + tf.reduce_sum(Phi_xy[:,N-1]))/(4*N)\n",
    "\n",
    "        RePhase = -1 * (Phi_xy - dcval)\n",
    "        return tf.math.real(RePhase) # 49.0\n",
    "\n",
    "    @tf.function\n",
    "    def gradient_2d(self, xy):\n",
    "        grad_x = tf.concat([xy[:,1:], tf.expand_dims(xy[:,-1], 1)], 1) - xy\n",
    "        grad_y = tf.concat([xy[1:], tf.expand_dims(xy[-1], 0)], 0) - xy\n",
    "\n",
    "        return grad_x, grad_y\n",
    "\n",
    "    @tf.function\n",
    "    def CalFrequency(self, img, lambd, ps, dz):\n",
    "        (nx, ny) = img.shape\n",
    "\n",
    "        dfx = 1/nx/ps\n",
    "        dfy = 1/ny/ps\n",
    "\n",
    "        (Kxdown, Kydown) = np.mgrid[-nx//2:nx//2,-ny//2:ny//2]\n",
    "\n",
    "        Kxdown = Kxdown * dfx\n",
    "        Kydown = Kydown * dfy\n",
    "\n",
    "        freqs = lambd * np.pi * (Kxdown ** 2 + Kydown ** 2)\n",
    "\n",
    "        # normalized for sampling step and GP Regression ?\n",
    "        freqs = freqs * dz / (2 * np.pi)\n",
    "\n",
    "        return freqs\n",
    "\n",
    "    @tf.function\n",
    "    def CombinePhase(self, dIdzStack, Frq_cutoff, freqs, CoeffStack, Coeff2Stack):\n",
    "        def F(x):\n",
    "            return signal.ifftshift(signal.fft2d(signal.fftshift(x)))\n",
    "\n",
    "        def Ft(x):\n",
    "            return signal.ifftshift(signal.ifft2d(signal.fftshift(x)))\n",
    "\n",
    "        Nx, Ny, Nsl = dIdzStack.shape\n",
    "\n",
    "        dIdzC_fft = tf.zeros((Nx,Ny), dtype=tf.complex64)\n",
    "        Maskf = tf.zeros((Nx,Ny))\n",
    "\n",
    "        f0 = 0\n",
    "        f1 = 1\n",
    "        \n",
    "        for k in range(Nsl):\n",
    "            dIdz_fft = F(tf.cast(dIdzStack[:,:,k], tf.complex64))\n",
    "\n",
    "            f1 = Frq_cutoff[k]\n",
    "            Mask0 = tf.zeros((Nx,Ny), dtype=tf.complex64)\n",
    "            Mask1 = tf.ones((Nx,Ny), dtype=tf.complex64)\n",
    "            Maskf = tf.where((freqs<=f1) & (freqs>f0), Mask1, Mask0)\n",
    "            f0 = f1\n",
    "            dIdzC_fft = dIdzC_fft + (dIdz_fft * Maskf)\n",
    "\n",
    "        return tf.math.real(Ft(dIdzC_fft))\n",
    "\n",
    "    @tf.function\n",
    "    def poisson_solve(self, func, ps, eps, symm, reflect):\n",
    "        N = len(func)\n",
    "\n",
    "        if reflect != 0:\n",
    "            N = N * 2\n",
    "            func = tf.concat([func, tf.image.flip_left_right(func)], axis=1)\n",
    "            func = tf.concat([func, tf.image.flip_up_down(func)], axis=0)\n",
    "\n",
    "        wx = 2 * np.pi * tf.range(0,N,1, dtype=tf.float32)/N\n",
    "        fx = 1/(2 * np.pi * ps) * (wx - np.pi * (1 - N % 2 / N))\n",
    "        [Fx, Fy] = tf.meshgrid(fx, fx)\n",
    "        func_ft = signal.fftshift(signal.fft2d(tf.cast(func, tf.complex64)))\n",
    "\n",
    "        Psi_ft = func_ft / tf.cast((-4 * np.pi**2 * (Fx**2 + Fy**2 + eps)), tf.complex64)\n",
    "        if (symm):\n",
    "            Psi_xy = signal.ifft2d(signal.ifftshift(Psi_ft))\n",
    "        else:\n",
    "            Psi_xy = signal.ifft2d(signal.ifftshift(Psi_ft))\n",
    "\n",
    "        if reflect != 0:\n",
    "            N = N//2\n",
    "            Psi_xy = Psi_xy[:N,:N]\n",
    "        return Psi_xy\n",
    "\n",
    "    @tf.function\n",
    "    def mrdivide(self, A, B):\n",
    "        # Solves A / B or xA = B\n",
    "        return tf.matmul(A, tf.linalg.inv(B))\n",
    "\n",
    "    @tf.function\n",
    "    def GPRegression(self, Ividmeas, zfocus, z, Sigmaf, Sigmal, Sigman):\n",
    "        Nx, Ny, Nz = Ividmeas.shape\n",
    "        ones = tf.ones((Nz,1), dtype=tf.float32)\n",
    "        KZ = tf.matmul(ones, tf.transpose(z)) - tf.matmul(z, tf.transpose(ones))\n",
    "\n",
    "        K = Sigmaf * (tf.exp(-1/2/Sigmal*(KZ**2)))\n",
    "        K = K + (Sigman * tf.eye(Nz))\n",
    "        L = tf.transpose(tf.linalg.cholesky(K))\n",
    "        z2 = zfocus\n",
    "\n",
    "        Nz2 = len(z2)\n",
    "        ones2 = tf.ones((Nz2,1))\n",
    "        KZ2 = ones * tf.transpose(z2) - z * tf.transpose(ones2)\n",
    "\n",
    "\n",
    "        D = Sigmaf * (tf.exp((-1/2/Sigmal)*(KZ2**2))) / -Sigmal * KZ2\n",
    "        Coeff = self.mrdivide(self.mrdivide(tf.transpose(D), L), tf.transpose(L))[0] #D.T/L/L.T\n",
    "        D2 = Sigmaf * (tf.exp((-1/2/Sigmal)*(KZ2**2)))\n",
    "        Coeff2 = self.mrdivide(self.mrdivide(tf.transpose(D2), L), tf.transpose(L)) #D2.T/L/L.T\n",
    "\n",
    "        dIdz = tf.zeros((Nx,Ny))\n",
    "\n",
    "        for k in range(Nz):\n",
    "            dIdz = dIdz + tf.cast(Ividmeas[:,:,k], tf.float32) * Coeff[k]\n",
    "\n",
    "        return dIdz, Coeff, Coeff2"
   ]
  },
  {
   "cell_type": "markdown",
   "metadata": {},
   "source": [
    "<hr style=\"height:2px;\">\n",
    "\n",
    "## Part 2: Collect a Z-Stack of your sample\n",
    "\n",
    "First verify you have a working installation of [Pycro-Manager](https://pycro-manager.readthedocs.io/en/latest/setup.html). Open Micro-Manager, select tools-options, and check the box that says Run server on port 4827 (you only need to do this once). Run:"
   ]
  },
  {
   "cell_type": "code",
   "execution_count": null,
   "metadata": {},
   "outputs": [],
   "source": [
    "import numpy as np\n",
    "import matplotlib.pyplot as plt\n",
    "\n",
    "from pycromanager import Bridge, Acquisition, multi_d_acquisition_events\n",
    "bridge = Bridge()\n",
    "core = bridge.get_core()"
   ]
  },
  {
   "cell_type": "markdown",
   "metadata": {},
   "source": [
    "The output should look something like:   \n",
    "```\n",
    "Out[1]: JavaObjectShadow for : mmcorej.CMMCore\n",
    "```\n",
    "We will be using [aquisition events](https://pycro-manager.readthedocs.io/en/latest/acq_intro.html), an extremely useful feature of Pycro-Manager that allows you to create sets of hardware postitions and images to collect images.\n",
    "Let's create an aquisition event that will collect a z-stack of the sample we have staged on our microscope right now. The following code will create the aquisition event and initiate collection of the z-stack. Make sure your microscope is ready, and specify the filepath you want to store the images in."
   ]
  },
  {
   "cell_type": "code",
   "execution_count": null,
   "metadata": {},
   "outputs": [],
   "source": [
    "Ividmeas = []\n",
    "z_vec = []\n",
    "if __name__ == '__main__': #this is important, don't forget it\n",
    "        with Acquisition(directory='/path/to/saving/dir', name='tie_acq') as acq:\n",
    "            # Generate the events for a single z-stack\n",
    "            events = multi_d_acquisition_events(z_start=0, z_end=5, z_step=1)\n",
    "            dataset = acq.get_dataset()\n",
    "            acq.acquire(events)\n",
    "            Ividmeas = dataset.as_array()\n",
    "            z_vec = events['z']"
   ]
  },
  {
   "cell_type": "markdown",
   "metadata": {},
   "source": [
    "Our images are now in data! Let's apply TIE and see the results:"
   ]
  },
  {
   "cell_type": "code",
   "execution_count": null,
   "metadata": {},
   "outputs": [],
   "source": [
    "if z_vec.shape[0] == 1:\n",
    "    z_vec = z_vec.T"
   ]
  },
  {
   "cell_type": "code",
   "execution_count": 53,
   "metadata": {},
   "outputs": [],
   "source": [
    "test_path = '/home/ryan/Desktop/Imaging/moustache_man_stack.mat'\n",
    "\n",
    "data = loadmat(test_path)"
   ]
  },
  {
   "cell_type": "code",
   "execution_count": 54,
   "metadata": {},
   "outputs": [],
   "source": [
    "Ividmeas = data['Istack']   # 512x512x3 array"
   ]
  },
  {
   "cell_type": "code",
   "execution_count": 56,
   "metadata": {},
   "outputs": [
    {
     "name": "stdout",
     "output_type": "stream",
     "text": [
      "[[-2.e-05]\n",
      " [ 0.e+00]\n",
      " [ 2.e-05]]\n"
     ]
    }
   ],
   "source": [
    "z_vec = data['zvec']\n",
    "if z_vec.shape[0] == 1:\n",
    "    z_vec = z_vec.T\n",
    "print(z_vec)"
   ]
  },
  {
   "cell_type": "code",
   "execution_count": 57,
   "metadata": {},
   "outputs": [
    {
     "name": "stdout",
     "output_type": "stream",
     "text": [
      "[[6.328e-07]]\n"
     ]
    }
   ],
   "source": [
    "print(data['lambda'])"
   ]
  },
  {
   "cell_type": "code",
   "execution_count": 32,
   "metadata": {},
   "outputs": [],
   "source": [
    "lambd = data['lambda'][0][0]\n",
    "ps = data['ps']\n",
    "zfocus = 1\n",
    "Nsl = 50\n",
    "eps1 = 1\n",
    "eps2 = 1\n",
    "reflect = False"
   ]
  },
  {
   "cell_type": "code",
   "execution_count": 43,
   "metadata": {},
   "outputs": [
    {
     "name": "stdout",
     "output_type": "stream",
     "text": [
      "phase:  (512, 512)\n",
      "time:  19.425032377243042\n"
     ]
    },
    {
     "data": {
      "image/png": "[encoded data removed]",
      "text/plain": [
       "<Figure size 432x288 with 1 Axes>"
      ]
     },
     "metadata": {
      "needs_background": "light"
     },
     "output_type": "display_data"
    }
   ],
   "source": [
    "gptie = GP_TIE()\n",
    "# print(\"loading data\")\n",
    "start = time.time()\n",
    "phase = gptie(Ividmeas, z_vec, lambd, ps, zfocus, Nsl, eps1, eps2, reflect).numpy()\n",
    "end = time.time()\n",
    "print(\"phase: \", phase.shape)\n",
    "print(\"time: \", end - start)\n",
    "plt.imshow(phase)\n",
    "plt.show()"
   ]
  },
  {
   "cell_type": "code",
   "execution_count": 47,
   "metadata": {},
   "outputs": [
    {
     "data": {
      "image/png": "[encoded data removed]",
      "text/plain": [
       "<Figure size 432x288 with 1 Axes>"
      ]
     },
     "metadata": {
      "needs_background": "light"
     },
     "output_type": "display_data"
    }
   ],
   "source": [
    "mou = Ividmeas[:,:,0]\n",
    "plt.imshow(mou)\n",
    "plt.show()"
   ]
  },
  {
   "cell_type": "code",
   "execution_count": 48,
   "metadata": {},
   "outputs": [
    {
     "data": {
      "image/png": "[encoded data removed]",
      "text/plain": [
       "<Figure size 432x288 with 1 Axes>"
      ]
     },
     "metadata": {
      "needs_background": "light"
     },
     "output_type": "display_data"
    }
   ],
   "source": [
    "mou = Ividmeas[:,:,1]\n",
    "plt.imshow(mou)\n",
    "plt.show()"
   ]
  },
  {
   "cell_type": "code",
   "execution_count": 51,
   "metadata": {},
   "outputs": [
    {
     "data": {
      "image/png": "[encoded data removed]",
      "text/plain": [
       "<Figure size 432x288 with 1 Axes>"
      ]
     },
     "metadata": {
      "needs_background": "light"
     },
     "output_type": "display_data"
    }
   ],
   "source": [
    "mou = Ividmeas[:,:,2]\n",
    "plt.imshow(mou)\n",
    "plt.show()"
   ]
  },
  {
   "cell_type": "code",
   "execution_count": null,
   "metadata": {},
   "outputs": [],
   "source": []
  }
 ],
 "metadata": {
  "kernelspec": {
   "display_name": "Python 3",
   "language": "python",
   "name": "python3"
  },
  "language_info": {
   "codemirror_mode": {
    "name": "ipython",
    "version": 3
   },
   "file_extension": ".py",
   "mimetype": "text/x-python",
   "name": "python",
   "nbconvert_exporter": "python",
   "pygments_lexer": "ipython3",
   "version": "3.7.6"
  }
 },
 "nbformat": 4,
 "nbformat_minor": 4
}
